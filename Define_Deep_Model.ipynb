{
 "cells": [
  {
   "cell_type": "markdown",
   "metadata": {},
   "source": [
    "# Imports"
   ]
  },
  {
   "cell_type": "code",
   "execution_count": 1,
   "metadata": {},
   "outputs": [],
   "source": [
    "import numpy as np\n",
    "import matplotlib.pyplot as plt\n",
    "import tensorflow as tf\n",
    "import pandas as pd\n",
    "import os\n",
    "import cv2 as cv"
   ]
  },
  {
   "cell_type": "code",
   "execution_count": 2,
   "metadata": {},
   "outputs": [],
   "source": [
    "# params \n",
    "\n",
    "original_image_size = (720,1280,3)"
   ]
  },
  {
   "cell_type": "markdown",
   "metadata": {},
   "source": [
    "# Define the model"
   ]
  },
  {
   "cell_type": "code",
   "execution_count": 3,
   "metadata": {},
   "outputs": [],
   "source": [
    "# size of the input images\n",
    "input_image_size = (416,416,3)\n",
    "\n",
    "# bounding boxes per cell\n",
    "BB_per_cell = 3 \n",
    "\n",
    "# number of classes in the dataset\n",
    "Classes = 5\n",
    "\n",
    "# Batch size\n",
    "batch_ = 16"
   ]
  },
  {
   "cell_type": "code",
   "execution_count": 4,
   "metadata": {},
   "outputs": [],
   "source": [
    "# Weight matrix initialization whenever using relu\n",
    "initializer_ = tf.keras.initializers.he_normal()"
   ]
  },
  {
   "cell_type": "code",
   "execution_count": 5,
   "metadata": {},
   "outputs": [],
   "source": [
    "def Build_model(initializer_, input_image_size, BB_per_cell, Classes, batch_, model_name):\n",
    "    \n",
    "    # input lauer\n",
    "    input_layer = tf.keras.layers.Input(shape=input_image_size, batch_size=batch_, name=\"input\")\n",
    "\n",
    "    # down_sampling\n",
    "    batch_norm_1 = tf.keras.layers.BatchNormalization()(input_layer)\n",
    "    \n",
    "    conv_1 = tf.keras.layers.Conv2D(filters=256, kernel_size=(3,3), strides=(1,1),\n",
    "                 activation='relu', kernel_initializer=initializer_, padding=\"same\", name=\"conv_1\")(batch_norm_1)\n",
    "\n",
    "    pooling_1 = tf.keras.layers.MaxPool2D(pool_size=(2,2), name=\"pool_1\")(conv_1)\n",
    "    \n",
    "    batch_norm_1 = tf.keras.layers.BatchNormalization()(pooling_1)\n",
    "\n",
    "    conv_2 = tf.keras.layers.Conv2D(filters=128, kernel_size=(3,3), strides=(1,1),\n",
    "                 activation='relu', kernel_initializer=initializer_,padding=\"same\", name=\"conv_2\")(batch_norm_1)\n",
    "    \n",
    "    pooling_2 = tf.keras.layers.MaxPool2D(pool_size=(2,2), name=\"pool_2\")(conv_2)\n",
    "    \n",
    "    batch_norm_2 = tf.keras.layers.BatchNormalization()(pooling_2)\n",
    "\n",
    "    conv_3 = tf.keras.layers.Conv2D(filters=64, kernel_size=(3,3), strides=(1,1),\n",
    "                 activation='relu', kernel_initializer=initializer_,padding=\"same\", name=\"conv_3\")(batch_norm_2)\n",
    "    \n",
    "    pooling_3 = tf.keras.layers.MaxPool2D(pool_size=(2,2), name=\"pool_3\")(conv_3)\n",
    "    \n",
    "    batch_norm_3 = tf.keras.layers.BatchNormalization()(pooling_3)\n",
    "\n",
    "    conv_4 = tf.keras.layers.Conv2D(filters=BB_per_cell*(5+Classes), kernel_size=(3,3), strides=(1,1),\n",
    "                 activation=None, padding=\"same\", name=\"detection_conv_4\")(batch_norm_3)\n",
    "    \n",
    "    return tf.keras.Model(inputs=input_layer, outputs=[conv_4], name=model_name)"
   ]
  },
  {
   "cell_type": "code",
   "execution_count": 6,
   "metadata": {},
   "outputs": [],
   "source": [
    "def mini_conv_block(input_, filters, kernel_size, strides, activation, ker_initializer, padd_):\n",
    "    batch_norm = tf.keras.layers.BatchNormalization()(input_)\n",
    "    conv = tf.keras.layers.Conv2D(filters=filters, kernel_size=kernel_size, strides=strides,\n",
    "                 activation=activation, kernel_initializer=ker_initializer, padding=padd_)(batch_norm)\n",
    "    pooling = tf.keras.layers.MaxPool2D(pool_size=(2,2))(conv)\n",
    "    return pooling "
   ]
  },
  {
   "cell_type": "code",
   "execution_count": 7,
   "metadata": {},
   "outputs": [],
   "source": [
    "def Build_model_(initializer_, input_image_size, BB_per_cell, Classes, batch_, model_name):\n",
    "    \n",
    "    # input lauer\n",
    "    input_layer = tf.keras.layers.Input(shape=input_image_size, batch_size=batch_, name=\"input\")\n",
    "\n",
    "    first_mini_block = mini_conv_block(input_layer, filters=512, kernel_size=(3,3), \n",
    "                       strides=(1,1), activation=\"relu\", ker_initializer=initializer_, padd_=\"same\")\n",
    "\n",
    "    second_mini_block = mini_conv_block(first_mini_block, filters=256, kernel_size=(3,3), \n",
    "                       strides=(1,1), activation=\"relu\", ker_initializer=initializer_, padd_=\"same\")\n",
    "    \n",
    "    third_mini_block = mini_conv_block(second_mini_block, filters=128, kernel_size=(3,3), \n",
    "                       strides=(1,1), activation=\"relu\", ker_initializer=initializer_, padd_=\"same\")\n",
    "    \n",
    "    fourth_mini_block = mini_conv_block(third_mini_block, filters=64, kernel_size=(3,3), \n",
    "                       strides=(1,1), activation=\"relu\", ker_initializer=initializer_, padd_=\"same\")\n",
    "    \n",
    "    fifth_mini_block = mini_conv_block(fourth_mini_block, filters=64, kernel_size=(3,3), \n",
    "                       strides=(1,1), activation=\"relu\", ker_initializer=initializer_, padd_=\"same\")\n",
    "    \n",
    "    batch_norm_3 = tf.keras.layers.BatchNormalization()(fifth_mini_block)\n",
    "\n",
    "    conv_4 = tf.keras.layers.Conv2D(filters=BB_per_cell*(5+Classes), kernel_size=(3,3), strides=(1,1),\n",
    "                 activation=None,padding=\"same\")(batch_norm_3)\n",
    "    \n",
    "    return tf.keras.Model(inputs=input_layer, outputs=[conv_4], name=model_name)"
   ]
  },
  {
   "cell_type": "code",
   "execution_count": 8,
   "metadata": {},
   "outputs": [],
   "source": [
    "model_ = Build_model_(initializer_, input_image_size, BB_per_cell, Classes, batch_, \"My_SSD_Detector_\")"
   ]
  },
  {
   "cell_type": "code",
   "execution_count": 9,
   "metadata": {},
   "outputs": [],
   "source": [
    "model = Build_model(initializer_, input_image_size, BB_per_cell, Classes, batch_, \"My_SSD_Detector\")"
   ]
  },
  {
   "cell_type": "code",
   "execution_count": 10,
   "metadata": {},
   "outputs": [
    {
     "name": "stdout",
     "output_type": "stream",
     "text": [
      "Model: \"My_SSD_Detector\"\n",
      "_________________________________________________________________\n",
      "Layer (type)                 Output Shape              Param #   \n",
      "=================================================================\n",
      "input (InputLayer)           [(16, 416, 416, 3)]       0         \n",
      "_________________________________________________________________\n",
      "batch_normalization_6 (Batch (16, 416, 416, 3)         12        \n",
      "_________________________________________________________________\n",
      "conv_1 (Conv2D)              (16, 416, 416, 256)       7168      \n",
      "_________________________________________________________________\n",
      "pool_1 (MaxPooling2D)        (16, 208, 208, 256)       0         \n",
      "_________________________________________________________________\n",
      "batch_normalization_7 (Batch (16, 208, 208, 256)       1024      \n",
      "_________________________________________________________________\n",
      "conv_2 (Conv2D)              (16, 208, 208, 128)       295040    \n",
      "_________________________________________________________________\n",
      "pool_2 (MaxPooling2D)        (16, 104, 104, 128)       0         \n",
      "_________________________________________________________________\n",
      "batch_normalization_8 (Batch (16, 104, 104, 128)       512       \n",
      "_________________________________________________________________\n",
      "conv_3 (Conv2D)              (16, 104, 104, 64)        73792     \n",
      "_________________________________________________________________\n",
      "pool_3 (MaxPooling2D)        (16, 52, 52, 64)          0         \n",
      "_________________________________________________________________\n",
      "batch_normalization_9 (Batch (16, 52, 52, 64)          256       \n",
      "_________________________________________________________________\n",
      "detection_conv_4 (Conv2D)    (16, 52, 52, 30)          17310     \n",
      "=================================================================\n",
      "Total params: 395,114\n",
      "Trainable params: 394,212\n",
      "Non-trainable params: 902\n",
      "_________________________________________________________________\n"
     ]
    }
   ],
   "source": [
    "model.summary()"
   ]
  },
  {
   "cell_type": "code",
   "execution_count": 11,
   "metadata": {},
   "outputs": [
    {
     "name": "stdout",
     "output_type": "stream",
     "text": [
      "Model: \"My_SSD_Detector_\"\n",
      "_________________________________________________________________\n",
      "Layer (type)                 Output Shape              Param #   \n",
      "=================================================================\n",
      "input (InputLayer)           [(16, 416, 416, 3)]       0         \n",
      "_________________________________________________________________\n",
      "batch_normalization (BatchNo (16, 416, 416, 3)         12        \n",
      "_________________________________________________________________\n",
      "conv2d (Conv2D)              (16, 416, 416, 512)       14336     \n",
      "_________________________________________________________________\n",
      "max_pooling2d (MaxPooling2D) (16, 208, 208, 512)       0         \n",
      "_________________________________________________________________\n",
      "batch_normalization_1 (Batch (16, 208, 208, 512)       2048      \n",
      "_________________________________________________________________\n",
      "conv2d_1 (Conv2D)            (16, 208, 208, 256)       1179904   \n",
      "_________________________________________________________________\n",
      "max_pooling2d_1 (MaxPooling2 (16, 104, 104, 256)       0         \n",
      "_________________________________________________________________\n",
      "batch_normalization_2 (Batch (16, 104, 104, 256)       1024      \n",
      "_________________________________________________________________\n",
      "conv2d_2 (Conv2D)            (16, 104, 104, 128)       295040    \n",
      "_________________________________________________________________\n",
      "max_pooling2d_2 (MaxPooling2 (16, 52, 52, 128)         0         \n",
      "_________________________________________________________________\n",
      "batch_normalization_3 (Batch (16, 52, 52, 128)         512       \n",
      "_________________________________________________________________\n",
      "conv2d_3 (Conv2D)            (16, 52, 52, 64)          73792     \n",
      "_________________________________________________________________\n",
      "max_pooling2d_3 (MaxPooling2 (16, 26, 26, 64)          0         \n",
      "_________________________________________________________________\n",
      "batch_normalization_4 (Batch (16, 26, 26, 64)          256       \n",
      "_________________________________________________________________\n",
      "conv2d_4 (Conv2D)            (16, 26, 26, 64)          36928     \n",
      "_________________________________________________________________\n",
      "max_pooling2d_4 (MaxPooling2 (16, 13, 13, 64)          0         \n",
      "_________________________________________________________________\n",
      "batch_normalization_5 (Batch (16, 13, 13, 64)          256       \n",
      "_________________________________________________________________\n",
      "conv2d_5 (Conv2D)            (16, 13, 13, 30)          17310     \n",
      "=================================================================\n",
      "Total params: 1,621,418\n",
      "Trainable params: 1,619,364\n",
      "Non-trainable params: 2,054\n",
      "_________________________________________________________________\n"
     ]
    }
   ],
   "source": [
    "model_.summary()"
   ]
  },
  {
   "cell_type": "code",
   "execution_count": null,
   "metadata": {},
   "outputs": [],
   "source": []
  }
 ],
 "metadata": {
  "kernelspec": {
   "display_name": "Python [conda env:tf_gpu]",
   "language": "python",
   "name": "conda-env-tf_gpu-py"
  },
  "language_info": {
   "codemirror_mode": {
    "name": "ipython",
    "version": 3
   },
   "file_extension": ".py",
   "mimetype": "text/x-python",
   "name": "python",
   "nbconvert_exporter": "python",
   "pygments_lexer": "ipython3",
   "version": "3.7.9"
  },
  "toc": {
   "base_numbering": 1,
   "nav_menu": {
    "height": "202px",
    "width": "160px"
   },
   "number_sections": true,
   "sideBar": true,
   "skip_h1_title": false,
   "title_cell": "Table of Contents",
   "title_sidebar": "Contents",
   "toc_cell": false,
   "toc_position": {
    "height": "849.6px",
    "left": "851.4px",
    "top": "66px",
    "width": "212px"
   },
   "toc_section_display": true,
   "toc_window_display": true
  },
  "varInspector": {
   "cols": {
    "lenName": 16,
    "lenType": 16,
    "lenVar": 40
   },
   "kernels_config": {
    "python": {
     "delete_cmd_postfix": "",
     "delete_cmd_prefix": "del ",
     "library": "var_list.py",
     "varRefreshCmd": "print(var_dic_list())"
    },
    "r": {
     "delete_cmd_postfix": ") ",
     "delete_cmd_prefix": "rm(",
     "library": "var_list.r",
     "varRefreshCmd": "cat(var_dic_list()) "
    }
   },
   "types_to_exclude": [
    "module",
    "function",
    "builtin_function_or_method",
    "instance",
    "_Feature"
   ],
   "window_display": false
  }
 },
 "nbformat": 4,
 "nbformat_minor": 4
}
